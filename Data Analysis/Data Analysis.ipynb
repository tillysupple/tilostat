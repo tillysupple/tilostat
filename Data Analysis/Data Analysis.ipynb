{
 "cells": [
  {
   "cell_type": "markdown",
   "metadata": {},
   "source": [
    "# Data Analysis"
   ]
  },
  {
   "cell_type": "code",
   "execution_count": 1,
   "metadata": {},
   "outputs": [
    {
     "data": {
      "text/html": [
       "<script>requirejs.config({paths: { 'plotly': ['https://cdn.plot.ly/plotly-latest.min']},});if(!window.Plotly) {{require(['plotly'],function(plotly) {window.Plotly=plotly;});}}</script>"
      ],
      "text/vnd.plotly.v1+html": [
       "<script>requirejs.config({paths: { 'plotly': ['https://cdn.plot.ly/plotly-latest.min']},});if(!window.Plotly) {{require(['plotly'],function(plotly) {window.Plotly=plotly;});}}</script>"
      ]
     },
     "metadata": {},
     "output_type": "display_data"
    }
   ],
   "source": [
    "# Importing libraries\n",
    "import os\n",
    "import warnings\n",
    "import csv\n",
    "warnings.filterwarnings('ignore')\n",
    "## General packages for working with vectors, datasets, and visualization\n",
    "import numpy as np\n",
    "from numpy.random import normal, seed\n",
    "import pandas as pd\n",
    "import matplotlib.pyplot as plt\n",
    "plt.style.use('fivethirtyeight') # This is a special style template for matplotlib, highly useful for visualizing time series data\n",
    "%matplotlib inline\n",
    "from pylab import rcParams\n",
    "from plotly import tools\n",
    "import plotly.plotly as py\n",
    "from plotly.offline import init_notebook_mode, iplot\n",
    "init_notebook_mode(connected=True)\n",
    "import plotly.graph_objs as go\n",
    "import plotly.figure_factory as ff\n",
    "import datetime"
   ]
  },
  {
   "cell_type": "markdown",
   "metadata": {},
   "source": [
    "## Loading and Reading Data"
   ]
  },
  {
   "cell_type": "code",
   "execution_count": 2,
   "metadata": {},
   "outputs": [],
   "source": [
    "filename = \"test1.csv\"\n",
    "data = pd.read_csv(filename, parse_dates=[['Date', 'Time']], index_col = 'Date_Time')\n",
    "\n",
    "\n",
    "# initializing the titles and rows list \n",
    "fields = [] \n",
    "rows = [] \n",
    "  \n",
    "# reading csv file \n",
    "with open(filename, 'r') as csvfile: \n",
    "                 \n",
    "    # creating a csv reader object \n",
    "    csvreader = csv.reader(csvfile) \n",
    "      \n",
    "    # extracting field names through first row \n",
    "    fields = next(csvreader)\n",
    "  \n",
    "    # extracting each data row one by one \n",
    "    for row in csvreader: \n",
    "        rows.append(row)\n"
   ]
  },
  {
   "cell_type": "markdown",
   "metadata": {},
   "source": [
    "## Cleaning and Visualising the Data\n",
    "\n",
    "The csv file is loaded. It is cleaned using fillna() method with ffill parameter which propagates last valid observation to fill gaps and displayed in case the sensor has missed a reading. \n",
    "\n",
    "The data is presented in a table and is plotted over time to give an overview of temperature trends\n"
   ]
  },
  {
   "cell_type": "code",
   "execution_count": 3,
   "metadata": {},
   "outputs": [
    {
     "data": {
      "text/html": [
       "<div>\n",
       "<style scoped>\n",
       "    .dataframe tbody tr th:only-of-type {\n",
       "        vertical-align: middle;\n",
       "    }\n",
       "\n",
       "    .dataframe tbody tr th {\n",
       "        vertical-align: top;\n",
       "    }\n",
       "\n",
       "    .dataframe thead th {\n",
       "        text-align: right;\n",
       "    }\n",
       "</style>\n",
       "<table border=\"1\" class=\"dataframe\">\n",
       "  <thead>\n",
       "    <tr style=\"text-align: right;\">\n",
       "      <th></th>\n",
       "      <th>Inside Temperature (°C)</th>\n",
       "      <th>Outside Temperature (°C)</th>\n",
       "      <th>Weather Description</th>\n",
       "      <th>Nest Temperature (°C)</th>\n",
       "      <th>Target Temperature (°C)</th>\n",
       "    </tr>\n",
       "    <tr>\n",
       "      <th>Date_Time</th>\n",
       "      <th></th>\n",
       "      <th></th>\n",
       "      <th></th>\n",
       "      <th></th>\n",
       "      <th></th>\n",
       "    </tr>\n",
       "  </thead>\n",
       "  <tbody>\n",
       "    <tr>\n",
       "      <th>2018-12-28 00:05:00</th>\n",
       "      <td>20.937</td>\n",
       "      <td>5.37</td>\n",
       "      <td>mist</td>\n",
       "      <td>22.5</td>\n",
       "      <td>23.0</td>\n",
       "    </tr>\n",
       "    <tr>\n",
       "      <th>2018-12-28 00:10:00</th>\n",
       "      <td>20.937</td>\n",
       "      <td>5.37</td>\n",
       "      <td>mist</td>\n",
       "      <td>22.5</td>\n",
       "      <td>23.0</td>\n",
       "    </tr>\n",
       "    <tr>\n",
       "      <th>2018-12-28 00:15:00</th>\n",
       "      <td>21.000</td>\n",
       "      <td>5.37</td>\n",
       "      <td>mist</td>\n",
       "      <td>22.5</td>\n",
       "      <td>23.0</td>\n",
       "    </tr>\n",
       "    <tr>\n",
       "      <th>2018-12-28 00:20:00</th>\n",
       "      <td>20.937</td>\n",
       "      <td>5.36</td>\n",
       "      <td>mist</td>\n",
       "      <td>22.5</td>\n",
       "      <td>23.0</td>\n",
       "    </tr>\n",
       "    <tr>\n",
       "      <th>2018-12-28 00:25:00</th>\n",
       "      <td>20.937</td>\n",
       "      <td>5.36</td>\n",
       "      <td>mist</td>\n",
       "      <td>22.5</td>\n",
       "      <td>23.0</td>\n",
       "    </tr>\n",
       "  </tbody>\n",
       "</table>\n",
       "</div>"
      ],
      "text/plain": [
       "                     Inside Temperature (°C)  Outside Temperature (°C)  \\\n",
       "Date_Time                                                                \n",
       "2018-12-28 00:05:00                   20.937                      5.37   \n",
       "2018-12-28 00:10:00                   20.937                      5.37   \n",
       "2018-12-28 00:15:00                   21.000                      5.37   \n",
       "2018-12-28 00:20:00                   20.937                      5.36   \n",
       "2018-12-28 00:25:00                   20.937                      5.36   \n",
       "\n",
       "                    Weather Description  Nest Temperature (°C)  \\\n",
       "Date_Time                                                        \n",
       "2018-12-28 00:05:00                mist                   22.5   \n",
       "2018-12-28 00:10:00                mist                   22.5   \n",
       "2018-12-28 00:15:00                mist                   22.5   \n",
       "2018-12-28 00:20:00                mist                   22.5   \n",
       "2018-12-28 00:25:00                mist                   22.5   \n",
       "\n",
       "                     Target Temperature (°C)  \n",
       "Date_Time                                     \n",
       "2018-12-28 00:05:00                     23.0  \n",
       "2018-12-28 00:10:00                     23.0  \n",
       "2018-12-28 00:15:00                     23.0  \n",
       "2018-12-28 00:20:00                     23.0  \n",
       "2018-12-28 00:25:00                     23.0  "
      ]
     },
     "execution_count": 3,
     "metadata": {},
     "output_type": "execute_result"
    }
   ],
   "source": [
    "data = data.iloc[1:] # it ignores the first column which is datetime.\n",
    "data = data.fillna(method='ffill') \n",
    "data.head()"
   ]
  },
  {
   "cell_type": "code",
   "execution_count": 4,
   "metadata": {},
   "outputs": [
    {
     "data": {
      "image/png": "[encoded data removed]",
      "text/plain": [
       "<Figure size 1440x720 with 1 Axes>"
      ]
     },
     "metadata": {
      "needs_background": "light"
     },
     "output_type": "display_data"
    }
   ],
   "source": [
    "## Frequency = every 5 minutes \n",
    "ax = data.plot()\n",
    "fig = ax.get_figure()\n",
    "fig.set_size_inches(20, 10)"
   ]
  },
  {
   "cell_type": "markdown",
   "metadata": {},
   "source": [
    "## Data Correlation\n",
    "\n",
    "We see clear correlation between the Nest temperature and Inside temperature as expected \n",
    "\n",
    "There is significant correlation between living room temperature and the outside temperature \n",
    "\n",
    "There is very little correlation between the target nest temperature and the temperature of the room"
   ]
  },
  {
   "cell_type": "code",
   "execution_count": 5,
   "metadata": {},
   "outputs": [
    {
     "name": "stdout",
     "output_type": "stream",
     "text": [
      "                          Inside Temperature (°C)  Outside Temperature (°C)  \\\n",
      "Inside Temperature (°C)                  1.000000                  0.413851   \n",
      "Outside Temperature (°C)                 0.413851                  1.000000   \n",
      "Nest Temperature (°C)                    0.916299                  0.370624   \n",
      "Target Temperature (°C)                  0.174745                 -0.192305   \n",
      "\n",
      "                          Nest Temperature (°C)  Target Temperature (°C)  \n",
      "Inside Temperature (°C)                0.916299                 0.174745  \n",
      "Outside Temperature (°C)               0.370624                -0.192305  \n",
      "Nest Temperature (°C)                  1.000000                 0.213472  \n",
      "Target Temperature (°C)                0.213472                 1.000000  \n"
     ]
    }
   ],
   "source": [
    "print(data.corr())"
   ]
  },
  {
   "cell_type": "markdown",
   "metadata": {},
   "source": [
    "## Computing Averages\n",
    "\n",
    "Finding the average temperature in the house tells us the most common comfortable temperature to live at."
   ]
  },
  {
   "cell_type": "code",
   "execution_count": 6,
   "metadata": {},
   "outputs": [],
   "source": [
    "inside_temp = []\n",
    "outside_temp = []\n",
    "nest_temp = []\n",
    "target_temp = []\n",
    "date_time = []\n",
    "weather = []\n",
    "date = []\n",
    "time = []\n",
    "\n",
    "for row in rows:\n",
    "    \n",
    "    date_time.append(row[0] + \" \" + row[1])\n",
    "    inside_temp.append(round(float(row[2]),1))\n",
    "    outside_temp.append(round(float(row[3]),1))\n",
    "    weather.append(row[4])\n",
    "    nest_temp.append(round(float(row[5]),1))\n",
    "    target_temp.append(round(float(row[6]),1))\n",
    "    date.append(row[0])\n",
    "    time.append(row[1])\n"
   ]
  },
  {
   "cell_type": "code",
   "execution_count": 7,
   "metadata": {},
   "outputs": [],
   "source": [
    "from collections import Counter\n",
    "\n",
    "def Average_temperature(lst): \n",
    "    at = sum(lst) / len(lst)\n",
    "    return round(at)\n",
    "     \n",
    "def Common_weather(lst):\n",
    "    c = Counter(weather)\n",
    "    common = c.most_common(1)\n",
    "    cw = common[0][0]\n",
    "    return cw.upper()"
   ]
  },
  {
   "cell_type": "code",
   "execution_count": 8,
   "metadata": {},
   "outputs": [
    {
     "name": "stdout",
     "output_type": "stream",
     "text": [
      "Average living room temperature =  21 °C\n",
      "Average outside temperature =  7 °C\n",
      "Most common weather condition =  OVERCAST CLOUDS\n"
     ]
    }
   ],
   "source": [
    "print(\"Average living room temperature = \", Average_temperature(inside_temp),\"\\N{DEGREE SIGN}C\")\n",
    "print(\"Average outside temperature = \", Average_temperature(outside_temp),\"\\N{DEGREE SIGN}C\") \n",
    "print(\"Most common weather condition = \", Common_weather(weather))"
   ]
  },
  {
   "cell_type": "markdown",
   "metadata": {},
   "source": [
    "## Comparing Temperatures\n",
    "\n",
    "Comparing the desired nest temperature to the target temperature gives an idea of how often the user is happy with their temperature. \n",
    "\n",
    "Comparing the inside temperature recorded to the temperature recorded on the Nest gives an idea of how well the Nest represents the main room of the house."
   ]
  },
  {
   "cell_type": "code",
   "execution_count": 9,
   "metadata": {},
   "outputs": [
    {
     "name": "stdout",
     "output_type": "stream",
     "text": [
      "Percentage of the time that Nest recorded values match the recorded living room temperature values:  12.6 % \n",
      "\n",
      "Percentage of the time that Nest recorded values match the target temperature values:  15.9 % \n",
      "\n",
      "Average difference between Nest recorded temperature and living room temperature:  -2 °C \n",
      "\n",
      "Average difference between target temperature and living room temperature:  3 °C \n",
      "\n"
     ]
    }
   ],
   "source": [
    "Nest_v_temp = []\n",
    "Desired_v_temp = []\n",
    "Nest_v_Desired = []\n",
    "\n",
    "for i in range(len(date_time)):\n",
    "    if round(nest_temp[i],1) == round(target_temp[i],1):\n",
    "        a = \"same\"\n",
    "    else:\n",
    "        a = \"different\"\n",
    "    Nest_v_Desired.append(a)\n",
    "\n",
    "for i in range(len(date_time)):\n",
    "    Nest_v_temp.append((inside_temp[i]-nest_temp[i]))\n",
    "    Desired_v_temp.append((inside_temp[i]-target_temp[i]))\n",
    "    \n",
    "def Average_difference(lst):\n",
    "    ad = sum(lst) / len(lst)\n",
    "    return(round(ad))\n",
    "\n",
    "\n",
    "def Same_values(lst):\n",
    "    c = Counter(lst)\n",
    "    a = c.most_common()\n",
    "    different = a[0][1]\n",
    "    same = a[1][1]\n",
    "    return round(same/len(lst)*100,1)\n",
    "\n",
    "print(\"Percentage of the time that Nest recorded values match the recorded living room temperature values: \", Same_values(Nest_v_temp), \"%\",'\\n')\n",
    "print(\"Percentage of the time that Nest recorded values match the target temperature values: \", Same_values(Nest_v_Desired), \"%\",'\\n')\n",
    "print(\"Average difference between Nest recorded temperature and living room temperature: \", Average_difference(Nest_v_temp), \"\\N{DEGREE SIGN}C\",'\\n')\n",
    "print(\"Average difference between target temperature and living room temperature: \", Average_difference(Desired_v_temp), \"\\N{DEGREE SIGN}C\",'\\n')"
   ]
  },
  {
   "cell_type": "markdown",
   "metadata": {},
   "source": [
    "## Detecting Peaks\n",
    "\n",
    "In the inside temperature data there are large spikes as a result of the door/windows being opened, by identifying and counting these peaks the number of times the door was left open in a week can be obtained."
   ]
  },
  {
   "cell_type": "code",
   "execution_count": 10,
   "metadata": {},
   "outputs": [
    {
     "name": "stdout",
     "output_type": "stream",
     "text": [
      "Number of Times the Door is left open: 21\n"
     ]
    }
   ],
   "source": [
    "outliers=[]\n",
    "\n",
    "def Detect_outlier(data):\n",
    "    threshold=2.5\n",
    "    mean_1 = np.mean(data)\n",
    "    std_1 =np.std(data)\n",
    "    for y in data:\n",
    "        z_score= (y - mean_1)/std_1 \n",
    "        if np.abs(z_score) > threshold:\n",
    "            outliers.append(y)\n",
    "    return(outliers)\n",
    "\n",
    "Detect_outlier(inside_temp)\n",
    "print(\"Number of Times the Door is left open:\", len(outliers))"
   ]
  },
  {
   "cell_type": "markdown",
   "metadata": {},
   "source": [
    "## Analysing by day\n"
   ]
  },
  {
   "cell_type": "code",
   "execution_count": null,
   "metadata": {},
   "outputs": [],
   "source": []
  },
  {
   "cell_type": "code",
   "execution_count": 11,
   "metadata": {},
   "outputs": [
    {
     "data": {
      "text/plain": [
       "['12-28-2018',\n",
       " '12-29-2018',\n",
       " '12-30-2018',\n",
       " '12-31-2018',\n",
       " '01-01-2019',\n",
       " '01-02-2019',\n",
       " '01-03-2019']"
      ]
     },
     "execution_count": 11,
     "metadata": {},
     "output_type": "execute_result"
    }
   ],
   "source": [
    "## GETTING A LIST OF DATES\n",
    "\n",
    "days=[]\n",
    "for i in range(len(date)):\n",
    "    if days == []:\n",
    "        days.append(date[0])\n",
    "    else:\n",
    "        if date[i] not in days:\n",
    "            days.append(date[i])\n",
    "        else:\n",
    "            continue  \n",
    "days"
   ]
  },
  {
   "cell_type": "code",
   "execution_count": 12,
   "metadata": {},
   "outputs": [],
   "source": [
    "#getting all of the data split into the days (11)\n",
    "\n",
    "valuesbyday = []\n",
    "\n",
    "#for every value in rows\n",
    "\n",
    "rows\n",
    "for i in range(len(days)):\n",
    "    byday=[]\n",
    "    for j in range(len(rows)):\n",
    "        if days[i] in rows[j][0]:\n",
    "            byday.append(rows[j])\n",
    "        else:\n",
    "            continue\n",
    "    valuesbyday.append(byday)\n"
   ]
  },
  {
   "cell_type": "code",
   "execution_count": 13,
   "metadata": {},
   "outputs": [],
   "source": [
    "day1_ot=[]\n",
    "day1_times=[]\n",
    "for i in range(len(valuesbyday[0])):\n",
    "    day1_ot.append(valuesbyday[0][i][3])\n",
    "    day1_times.append(valuesbyday[0][i][1])"
   ]
  },
  {
   "cell_type": "code",
   "execution_count": 14,
   "metadata": {},
   "outputs": [],
   "source": [
    "day2_ot=[]\n",
    "day2_times=[]\n",
    "for i in range(len(valuesbyday[1])):\n",
    "    day2_ot.append(valuesbyday[1][i][3])\n",
    "    day2_times.append(valuesbyday[1][i][1])"
   ]
  },
  {
   "cell_type": "code",
   "execution_count": 15,
   "metadata": {},
   "outputs": [],
   "source": [
    "day3_ot=[]\n",
    "day3_times=[]\n",
    "for i in range(len(valuesbyday[2])):\n",
    "    day3_ot.append(valuesbyday[2][i][3])\n",
    "    day3_times.append(valuesbyday[2][i][1])\n"
   ]
  },
  {
   "cell_type": "code",
   "execution_count": 16,
   "metadata": {},
   "outputs": [],
   "source": [
    "times = ['00:00','01:00','02:00','03:00','04:00','05:00','06:00','07:00','08:00','09:00','10:00','11:00','12:00','13:00','14:00','15:00','16:00','17:00','18:00','19:00','20:00','21:00','22:00','23:00','24:00']"
   ]
  },
  {
   "cell_type": "code",
   "execution_count": 17,
   "metadata": {},
   "outputs": [],
   "source": [
    "valuesbyhour=[]\n",
    "for j in range(24):\n",
    "    byhour=[]\n",
    "    for i in range(len(rows)):\n",
    "        if times[j] <= rows[i][1] < times[j+1]:\n",
    "            byhour.append(rows[i])\n",
    "    valuesbyhour.append(byhour)\n",
    "    \n",
    "#inside temp (first index = first hour, second index = data, 3rd index = specific data)\n"
   ]
  },
  {
   "cell_type": "code",
   "execution_count": 18,
   "metadata": {},
   "outputs": [],
   "source": [
    "averageotperhour=[]\n",
    "averageitperhour=[]\n",
    "averagentperhour=[]\n",
    "\n",
    "for j in range(len(valuesbyhour)):\n",
    "    jhour = []\n",
    "    \n",
    "    for i in range(len(valuesbyhour[j])):\n",
    "        jhour.append(float(valuesbyhour[j][i][3]))\n",
    "        \n",
    "    jhoursum = sum(jhour)\n",
    "    averageotperhour.append(round(jhoursum/len(jhour),2))\n",
    "\n",
    "for j in range(len(valuesbyhour)):\n",
    "    jhour = []\n",
    "    \n",
    "    for i in range(len(valuesbyhour[j])):\n",
    "        jhour.append(float(valuesbyhour[j][i][2]))\n",
    "        \n",
    "    jhoursum = sum(jhour)\n",
    "    averageitperhour.append(round(jhoursum/len(jhour),2))\n",
    "\n",
    "for j in range(len(valuesbyhour)):\n",
    "    current_hour=[]\n",
    "\n",
    "    for i in range(len(valuesbyhour[j])):\n",
    "        current_hour.append(float(valuesbyhour[j][i][5]))\n",
    "\n",
    "    average_of_hour = sum(current_hour)/len(valuesbyhour[j])\n",
    "    averagentperhour.append(round(average_of_hour))\n",
    "    "
   ]
  },
  {
   "cell_type": "code",
   "execution_count": null,
   "metadata": {},
   "outputs": [],
   "source": []
  },
  {
   "cell_type": "markdown",
   "metadata": {},
   "source": [
    "## Temperatures by Day"
   ]
  },
  {
   "cell_type": "code",
   "execution_count": null,
   "metadata": {},
   "outputs": [],
   "source": []
  },
  {
   "cell_type": "code",
   "execution_count": 19,
   "metadata": {},
   "outputs": [
    {
     "name": "stdout",
     "output_type": "stream",
     "text": [
      "[1.55, 1.46, 1.39, 1.42, 1.5, 1.55, 1.73]\n",
      "[7.5, 9.61, 8.77, 8.93, 7.9, 4.25, 3.61]\n",
      "['12-28-2018', '12-29-2018', '12-30-2018', '12-31-2018', '01-01-2019', '01-02-2019', '01-03-2019']\n"
     ]
    }
   ],
   "source": [
    "avdif=[]\n",
    "for j in range(len(valuesbyday)):\n",
    "    hourdiffj = []\n",
    "    \n",
    "    for i in range(len(valuesbyday[j])):\n",
    "        hourdiffj.append(round(float(valuesbyday[j][i][5]) - float(valuesbyday[j][i][2]),2))\n",
    "    jhoursum = sum(hourdiffj)\n",
    "    avdif.append(round(jhoursum/len(hourdiffj),2))\n",
    "print(avdif)\n",
    "\n",
    "otd=[]\n",
    "for j in range(len(valuesbyday)):\n",
    "    hourdiffj = []\n",
    "    \n",
    "    for i in range(len(valuesbyday[j])):\n",
    "        hourdiffj.append(round(float(valuesbyday[j][i][3]),2))\n",
    "    jhoursum = sum(hourdiffj)\n",
    "    otd.append(round(jhoursum/len(hourdiffj),2))\n",
    "print(otd)\n",
    "\n",
    "print(days)\n",
    "\n"
   ]
  },
  {
   "cell_type": "code",
   "execution_count": null,
   "metadata": {},
   "outputs": [],
   "source": []
  },
  {
   "cell_type": "code",
   "execution_count": null,
   "metadata": {},
   "outputs": [],
   "source": [
    "\n"
   ]
  },
  {
   "cell_type": "code",
   "execution_count": null,
   "metadata": {},
   "outputs": [],
   "source": []
  },
  {
   "cell_type": "code",
   "execution_count": null,
   "metadata": {},
   "outputs": [],
   "source": []
  },
  {
   "cell_type": "code",
   "execution_count": null,
   "metadata": {},
   "outputs": [],
   "source": []
  },
  {
   "cell_type": "code",
   "execution_count": null,
   "metadata": {},
   "outputs": [],
   "source": []
  },
  {
   "cell_type": "code",
   "execution_count": null,
   "metadata": {},
   "outputs": [],
   "source": []
  },
  {
   "cell_type": "code",
   "execution_count": null,
   "metadata": {},
   "outputs": [],
   "source": []
  },
  {
   "cell_type": "code",
   "execution_count": null,
   "metadata": {},
   "outputs": [],
   "source": []
  },
  {
   "cell_type": "code",
   "execution_count": null,
   "metadata": {},
   "outputs": [],
   "source": []
  },
  {
   "cell_type": "code",
   "execution_count": null,
   "metadata": {},
   "outputs": [],
   "source": []
  }
 ],
 "metadata": {
  "kernelspec": {
   "display_name": "Python 3",
   "language": "python",
   "name": "python3"
  },
  "language_info": {
   "codemirror_mode": {
    "name": "ipython",
    "version": 3
   },
   "file_extension": ".py",
   "mimetype": "text/x-python",
   "name": "python",
   "nbconvert_exporter": "python",
   "pygments_lexer": "ipython3",
   "version": "3.7.0"
  }
 },
 "nbformat": 4,
 "nbformat_minor": 2
}
